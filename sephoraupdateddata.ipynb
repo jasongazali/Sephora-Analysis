{
 "cells": [
  {
   "cell_type": "code",
   "execution_count": 3,
   "metadata": {},
   "outputs": [],
   "source": [
    "import pandas as pd\n",
    "import numpy as np"
   ]
  },
  {
   "cell_type": "code",
   "execution_count": 6,
   "metadata": {},
   "outputs": [],
   "source": [
    "# Adjust display options\n",
    "pd.set_option('display.max_rows', None)   # Show all rows\n",
    "pd.set_option('display.max_columns', None)   # Show all columns"
   ]
  },
  {
   "cell_type": "code",
   "execution_count": 8,
   "metadata": {},
   "outputs": [],
   "source": [
    "df = pd.read_excel('Makeup your Career w Sephora Canada - Registration form report.xlsx')\n",
    "df_copy = df"
   ]
  },
  {
   "cell_type": "code",
   "execution_count": 9,
   "metadata": {},
   "outputs": [],
   "source": [
    "#Delete Unnecessary Columns\n",
    "\n",
    "del df_copy['Year of Study  [Year 1]']\n",
    "del df_copy['Year of Study  [Year 2]']\n",
    "del df_copy['Year of Study  [Year 3]']\n",
    "del df_copy['Year of Study  [Year 4+]']\n",
    "del df_copy['How many co-op work terms do you have remaining? [1]']\n",
    "del df_copy['How many co-op work terms do you have remaining? [2]']\n",
    "del df_copy['How many co-op work terms do you have remaining? [3]']\n",
    "del df_copy['How many co-op work terms do you have remaining? [N/A]']\n",
    "del df_copy['Do you know about Sephora Aspire Program? [Yes]']\n",
    "del df_copy['Do you know about Sephora Aspire Program? [No]']\n",
    "del df_copy['Dietary Restrictions  [Vegetarian]']\n",
    "del df_copy['Dietary Restrictions  [Halal]']\n",
    "del df_copy['Dietary Restrictions  [Gluten Free]']\n",
    "del df_copy['Dietary Restrictions  [Kosher]']\n",
    "del df_copy['Dietary Restrictions  [Peanut Allergies]']\n",
    "del df_copy['Dietary Restrictions  [Lactose Intollerant]']\n",
    "del df_copy['Dietary Restrictions  [N/A]']\n",
    "del df_copy['Terms and Conditions * I acknowledge that submitting this form only expresses my interest for the networking event on 7th June 2023. Due to capacity constraints, only 30 students would be selected based on their interest and understanding on Sephora Canada and the Aspire program. I will be informed of my selection status by May 28th.']\n",
    "del df_copy['Terms and Conditions * I acknowledge that submitting this form only expresses my interest for the networking event on 7th June 2023. Due to capacity constraints, only 30 students would be selected based on their interest and understanding on Sephora Canada and the Aspire program. I will be informed of my selection status by May 28th. [I agree]']"
   ]
  },
  {
   "cell_type": "code",
   "execution_count": 10,
   "metadata": {},
   "outputs": [
    {
     "data": {
      "text/plain": [
       "0"
      ]
     },
     "execution_count": 10,
     "metadata": {},
     "output_type": "execute_result"
    }
   ],
   "source": [
    "df_copy['Year'] = df['Year of Study '].str.extract('(\\d+)', expand=False)\n",
    "#Check for duplicates\n",
    "df_copy.duplicated().sum()"
   ]
  },
  {
   "cell_type": "code",
   "execution_count": 11,
   "metadata": {},
   "outputs": [],
   "source": [
    "from sklearn.linear_model import LinearRegression\n",
    "from sklearn.preprocessing import LabelEncoder"
   ]
  },
  {
   "cell_type": "code",
   "execution_count": 12,
   "metadata": {},
   "outputs": [],
   "source": [
    "# Perform label encoding for categorical variables\n",
    "label_encoder = LabelEncoder()\n",
    "df_copy['For which opportunity are you interested to learn more about? * [Co-op]'] = df_copy['For which opportunity are you interested to learn more about? * [Co-op]'].astype(int)\n",
    "df_copy['For which opportunity are you interested to learn more about? * [Full Time]'] = df_copy['For which opportunity are you interested to learn more about? * [Full Time]'].astype(int)\n",
    "df_copy['Do you know about Sephora Aspire Program?'] = label_encoder.fit_transform(df_copy['Do you know about Sephora Aspire Program?'])"
   ]
  },
  {
   "cell_type": "code",
   "execution_count": 13,
   "metadata": {},
   "outputs": [],
   "source": [
    "#get non null data for coop workterm column\n",
    "dfna = df_copy[df_copy['How many co-op work terms do you have remaining?'].notna()]"
   ]
  },
  {
   "cell_type": "code",
   "execution_count": 14,
   "metadata": {},
   "outputs": [
    {
     "data": {
      "text/plain": [
       "Index(['Updated By Campus', 'Full Name', 'UofT Email ', 'Year of Study ',\n",
       "       'For which opportunity are you interested to learn more about? *',\n",
       "       'For which opportunity are you interested to learn more about? * [Co-op]',\n",
       "       'For which opportunity are you interested to learn more about? * [Full Time]',\n",
       "       'How many co-op work terms do you have remaining?',\n",
       "       'Do you know about Sephora Aspire Program?',\n",
       "       'Why are you interested in Sephora Aspire, and Sephora in general? Sephora Aspire is their program for all university hires which promises a rich learning and development experience. To learn more, https://www.inside-sephora.com/en/canada/sephora-aspire',\n",
       "       'Dietary Restrictions ', 'Year'],\n",
       "      dtype='object')"
      ]
     },
     "execution_count": 14,
     "metadata": {},
     "output_type": "execute_result"
    }
   ],
   "source": [
    "df_copy.columns"
   ]
  },
  {
   "cell_type": "code",
   "execution_count": 15,
   "metadata": {},
   "outputs": [],
   "source": [
    "# Split the data into features and target variable\n",
    "X = dfna.drop(['Year','Updated By Campus','Full Name','UofT Email ','Year of Study ','For which opportunity are you interested to learn more about? *', 'Why are you interested in Sephora Aspire, and Sephora in general? Sephora Aspire is their program for all university hires which promises a rich learning and development experience. To learn more, https://www.inside-sephora.com/en/canada/sephora-aspire','Dietary Restrictions '], axis=1)\n",
    "y = dfna['Year']"
   ]
  },
  {
   "cell_type": "code",
   "execution_count": 16,
   "metadata": {},
   "outputs": [
    {
     "data": {
      "text/html": [
       "<style>#sk-container-id-1 {color: black;background-color: white;}#sk-container-id-1 pre{padding: 0;}#sk-container-id-1 div.sk-toggleable {background-color: white;}#sk-container-id-1 label.sk-toggleable__label {cursor: pointer;display: block;width: 100%;margin-bottom: 0;padding: 0.3em;box-sizing: border-box;text-align: center;}#sk-container-id-1 label.sk-toggleable__label-arrow:before {content: \"▸\";float: left;margin-right: 0.25em;color: #696969;}#sk-container-id-1 label.sk-toggleable__label-arrow:hover:before {color: black;}#sk-container-id-1 div.sk-estimator:hover label.sk-toggleable__label-arrow:before {color: black;}#sk-container-id-1 div.sk-toggleable__content {max-height: 0;max-width: 0;overflow: hidden;text-align: left;background-color: #f0f8ff;}#sk-container-id-1 div.sk-toggleable__content pre {margin: 0.2em;color: black;border-radius: 0.25em;background-color: #f0f8ff;}#sk-container-id-1 input.sk-toggleable__control:checked~div.sk-toggleable__content {max-height: 200px;max-width: 100%;overflow: auto;}#sk-container-id-1 input.sk-toggleable__control:checked~label.sk-toggleable__label-arrow:before {content: \"▾\";}#sk-container-id-1 div.sk-estimator input.sk-toggleable__control:checked~label.sk-toggleable__label {background-color: #d4ebff;}#sk-container-id-1 div.sk-label input.sk-toggleable__control:checked~label.sk-toggleable__label {background-color: #d4ebff;}#sk-container-id-1 input.sk-hidden--visually {border: 0;clip: rect(1px 1px 1px 1px);clip: rect(1px, 1px, 1px, 1px);height: 1px;margin: -1px;overflow: hidden;padding: 0;position: absolute;width: 1px;}#sk-container-id-1 div.sk-estimator {font-family: monospace;background-color: #f0f8ff;border: 1px dotted black;border-radius: 0.25em;box-sizing: border-box;margin-bottom: 0.5em;}#sk-container-id-1 div.sk-estimator:hover {background-color: #d4ebff;}#sk-container-id-1 div.sk-parallel-item::after {content: \"\";width: 100%;border-bottom: 1px solid gray;flex-grow: 1;}#sk-container-id-1 div.sk-label:hover label.sk-toggleable__label {background-color: #d4ebff;}#sk-container-id-1 div.sk-serial::before {content: \"\";position: absolute;border-left: 1px solid gray;box-sizing: border-box;top: 0;bottom: 0;left: 50%;z-index: 0;}#sk-container-id-1 div.sk-serial {display: flex;flex-direction: column;align-items: center;background-color: white;padding-right: 0.2em;padding-left: 0.2em;position: relative;}#sk-container-id-1 div.sk-item {position: relative;z-index: 1;}#sk-container-id-1 div.sk-parallel {display: flex;align-items: stretch;justify-content: center;background-color: white;position: relative;}#sk-container-id-1 div.sk-item::before, #sk-container-id-1 div.sk-parallel-item::before {content: \"\";position: absolute;border-left: 1px solid gray;box-sizing: border-box;top: 0;bottom: 0;left: 50%;z-index: -1;}#sk-container-id-1 div.sk-parallel-item {display: flex;flex-direction: column;z-index: 1;position: relative;background-color: white;}#sk-container-id-1 div.sk-parallel-item:first-child::after {align-self: flex-end;width: 50%;}#sk-container-id-1 div.sk-parallel-item:last-child::after {align-self: flex-start;width: 50%;}#sk-container-id-1 div.sk-parallel-item:only-child::after {width: 0;}#sk-container-id-1 div.sk-dashed-wrapped {border: 1px dashed gray;margin: 0 0.4em 0.5em 0.4em;box-sizing: border-box;padding-bottom: 0.4em;background-color: white;}#sk-container-id-1 div.sk-label label {font-family: monospace;font-weight: bold;display: inline-block;line-height: 1.2em;}#sk-container-id-1 div.sk-label-container {text-align: center;}#sk-container-id-1 div.sk-container {/* jupyter's `normalize.less` sets `[hidden] { display: none; }` but bootstrap.min.css set `[hidden] { display: none !important; }` so we also need the `!important` here to be able to override the default hidden behavior on the sphinx rendered scikit-learn.org. See: https://github.com/scikit-learn/scikit-learn/issues/21755 */display: inline-block !important;position: relative;}#sk-container-id-1 div.sk-text-repr-fallback {display: none;}</style><div id=\"sk-container-id-1\" class=\"sk-top-container\"><div class=\"sk-text-repr-fallback\"><pre>LinearRegression()</pre><b>In a Jupyter environment, please rerun this cell to show the HTML representation or trust the notebook. <br />On GitHub, the HTML representation is unable to render, please try loading this page with nbviewer.org.</b></div><div class=\"sk-container\" hidden><div class=\"sk-item\"><div class=\"sk-estimator sk-toggleable\"><input class=\"sk-toggleable__control sk-hidden--visually\" id=\"sk-estimator-id-1\" type=\"checkbox\" checked><label for=\"sk-estimator-id-1\" class=\"sk-toggleable__label sk-toggleable__label-arrow\">LinearRegression</label><div class=\"sk-toggleable__content\"><pre>LinearRegression()</pre></div></div></div></div></div>"
      ],
      "text/plain": [
       "LinearRegression()"
      ]
     },
     "execution_count": 16,
     "metadata": {},
     "output_type": "execute_result"
    }
   ],
   "source": [
    "# Create and fit the regression model\n",
    "regression_model = LinearRegression()\n",
    "regression_model.fit(X, y)"
   ]
  },
  {
   "cell_type": "code",
   "execution_count": 17,
   "metadata": {},
   "outputs": [
    {
     "data": {
      "text/html": [
       "<div>\n",
       "<style scoped>\n",
       "    .dataframe tbody tr th:only-of-type {\n",
       "        vertical-align: middle;\n",
       "    }\n",
       "\n",
       "    .dataframe tbody tr th {\n",
       "        vertical-align: top;\n",
       "    }\n",
       "\n",
       "    .dataframe thead th {\n",
       "        text-align: right;\n",
       "    }\n",
       "</style>\n",
       "<table border=\"1\" class=\"dataframe\">\n",
       "  <thead>\n",
       "    <tr style=\"text-align: right;\">\n",
       "      <th></th>\n",
       "      <th>For which opportunity are you interested to learn more about? * [Co-op]</th>\n",
       "      <th>For which opportunity are you interested to learn more about? * [Full Time]</th>\n",
       "      <th>How many co-op work terms do you have remaining?</th>\n",
       "      <th>Do you know about Sephora Aspire Program?</th>\n",
       "    </tr>\n",
       "  </thead>\n",
       "  <tbody>\n",
       "    <tr>\n",
       "      <th>0</th>\n",
       "      <td>1</td>\n",
       "      <td>0</td>\n",
       "      <td>3.0</td>\n",
       "      <td>1</td>\n",
       "    </tr>\n",
       "    <tr>\n",
       "      <th>1</th>\n",
       "      <td>1</td>\n",
       "      <td>1</td>\n",
       "      <td>1.0</td>\n",
       "      <td>1</td>\n",
       "    </tr>\n",
       "    <tr>\n",
       "      <th>2</th>\n",
       "      <td>1</td>\n",
       "      <td>1</td>\n",
       "      <td>2.0</td>\n",
       "      <td>1</td>\n",
       "    </tr>\n",
       "    <tr>\n",
       "      <th>3</th>\n",
       "      <td>1</td>\n",
       "      <td>0</td>\n",
       "      <td>1.0</td>\n",
       "      <td>1</td>\n",
       "    </tr>\n",
       "    <tr>\n",
       "      <th>5</th>\n",
       "      <td>1</td>\n",
       "      <td>1</td>\n",
       "      <td>1.0</td>\n",
       "      <td>1</td>\n",
       "    </tr>\n",
       "  </tbody>\n",
       "</table>\n",
       "</div>"
      ],
      "text/plain": [
       "   For which opportunity are you interested to learn more about? * [Co-op]  \\\n",
       "0                                                  1                         \n",
       "1                                                  1                         \n",
       "2                                                  1                         \n",
       "3                                                  1                         \n",
       "5                                                  1                         \n",
       "\n",
       "   For which opportunity are you interested to learn more about? * [Full Time]  \\\n",
       "0                                                  0                             \n",
       "1                                                  1                             \n",
       "2                                                  1                             \n",
       "3                                                  0                             \n",
       "5                                                  1                             \n",
       "\n",
       "   How many co-op work terms do you have remaining?  \\\n",
       "0                                               3.0   \n",
       "1                                               1.0   \n",
       "2                                               2.0   \n",
       "3                                               1.0   \n",
       "5                                               1.0   \n",
       "\n",
       "   Do you know about Sephora Aspire Program?  \n",
       "0                                          1  \n",
       "1                                          1  \n",
       "2                                          1  \n",
       "3                                          1  \n",
       "5                                          1  "
      ]
     },
     "execution_count": 17,
     "metadata": {},
     "output_type": "execute_result"
    }
   ],
   "source": [
    "X.head()"
   ]
  },
  {
   "cell_type": "code",
   "execution_count": 18,
   "metadata": {},
   "outputs": [
    {
     "data": {
      "text/html": [
       "<div>\n",
       "<style scoped>\n",
       "    .dataframe tbody tr th:only-of-type {\n",
       "        vertical-align: middle;\n",
       "    }\n",
       "\n",
       "    .dataframe tbody tr th {\n",
       "        vertical-align: top;\n",
       "    }\n",
       "\n",
       "    .dataframe thead th {\n",
       "        text-align: right;\n",
       "    }\n",
       "</style>\n",
       "<table border=\"1\" class=\"dataframe\">\n",
       "  <thead>\n",
       "    <tr style=\"text-align: right;\">\n",
       "      <th></th>\n",
       "      <th>Updated By Campus</th>\n",
       "      <th>Full Name</th>\n",
       "      <th>UofT Email</th>\n",
       "      <th>Year of Study</th>\n",
       "      <th>For which opportunity are you interested to learn more about? *</th>\n",
       "      <th>For which opportunity are you interested to learn more about? * [Co-op]</th>\n",
       "      <th>For which opportunity are you interested to learn more about? * [Full Time]</th>\n",
       "      <th>How many co-op work terms do you have remaining?</th>\n",
       "      <th>Do you know about Sephora Aspire Program?</th>\n",
       "      <th>Why are you interested in Sephora Aspire, and Sephora in general? Sephora Aspire is their program for all university hires which promises a rich learning and development experience. To learn more, https://www.inside-sephora.com/en/canada/sephora-aspire</th>\n",
       "      <th>Dietary Restrictions</th>\n",
       "      <th>Year</th>\n",
       "    </tr>\n",
       "  </thead>\n",
       "  <tbody>\n",
       "    <tr>\n",
       "      <th>0</th>\n",
       "      <td>NaN</td>\n",
       "      <td>Kelsey Gee</td>\n",
       "      <td>kelsey.gee@mail.utoronto.ca</td>\n",
       "      <td>Year 1</td>\n",
       "      <td>Co-op</td>\n",
       "      <td>1</td>\n",
       "      <td>0</td>\n",
       "      <td>3.0</td>\n",
       "      <td>1</td>\n",
       "      <td>As a person of color who grew up in Canada and...</td>\n",
       "      <td>NaN</td>\n",
       "      <td>1</td>\n",
       "    </tr>\n",
       "    <tr>\n",
       "      <th>1</th>\n",
       "      <td>NaN</td>\n",
       "      <td>Greshel Wadhawan</td>\n",
       "      <td>greshel.wadhawan@mail.utoronto.ca</td>\n",
       "      <td>Year 3</td>\n",
       "      <td>Co-op, Full Time</td>\n",
       "      <td>1</td>\n",
       "      <td>1</td>\n",
       "      <td>1.0</td>\n",
       "      <td>1</td>\n",
       "      <td>As an avid Sephora consumer, having the opport...</td>\n",
       "      <td>Vegetarian, Lactose Intollerant</td>\n",
       "      <td>3</td>\n",
       "    </tr>\n",
       "    <tr>\n",
       "      <th>2</th>\n",
       "      <td>NaN</td>\n",
       "      <td>Amanda Stephanie DSouza</td>\n",
       "      <td>mandystephanie.dsouza@mail.utoronto.ca</td>\n",
       "      <td>Year 4+</td>\n",
       "      <td>Co-op, Full Time</td>\n",
       "      <td>1</td>\n",
       "      <td>1</td>\n",
       "      <td>2.0</td>\n",
       "      <td>1</td>\n",
       "      <td>I am very interested in consumer analytics and...</td>\n",
       "      <td>Peanut Allergies</td>\n",
       "      <td>4</td>\n",
       "    </tr>\n",
       "    <tr>\n",
       "      <th>3</th>\n",
       "      <td>UTSC</td>\n",
       "      <td>Suchi Shroff</td>\n",
       "      <td>suchi.shroff@mail.utoronto.ca</td>\n",
       "      <td>Year 2</td>\n",
       "      <td>Co-op</td>\n",
       "      <td>1</td>\n",
       "      <td>0</td>\n",
       "      <td>1.0</td>\n",
       "      <td>1</td>\n",
       "      <td>Sephora believes in empowering the ExtraOrdina...</td>\n",
       "      <td>Vegetarian</td>\n",
       "      <td>2</td>\n",
       "    </tr>\n",
       "    <tr>\n",
       "      <th>5</th>\n",
       "      <td>NaN</td>\n",
       "      <td>Zhikai Huang</td>\n",
       "      <td>austinn.huang@mail.utoronto.ca</td>\n",
       "      <td>Year 3</td>\n",
       "      <td>Co-op, Full Time</td>\n",
       "      <td>1</td>\n",
       "      <td>1</td>\n",
       "      <td>1.0</td>\n",
       "      <td>1</td>\n",
       "      <td>I have always been captivated by the cosmetics...</td>\n",
       "      <td>NaN</td>\n",
       "      <td>3</td>\n",
       "    </tr>\n",
       "  </tbody>\n",
       "</table>\n",
       "</div>"
      ],
      "text/plain": [
       "  Updated By Campus                Full Name  \\\n",
       "0               NaN               Kelsey Gee   \n",
       "1               NaN         Greshel Wadhawan   \n",
       "2               NaN  Amanda Stephanie DSouza   \n",
       "3              UTSC             Suchi Shroff   \n",
       "5               NaN             Zhikai Huang   \n",
       "\n",
       "                              UofT Email  Year of Study   \\\n",
       "0             kelsey.gee@mail.utoronto.ca         Year 1   \n",
       "1       greshel.wadhawan@mail.utoronto.ca         Year 3   \n",
       "2  mandystephanie.dsouza@mail.utoronto.ca        Year 4+   \n",
       "3           suchi.shroff@mail.utoronto.ca         Year 2   \n",
       "5          austinn.huang@mail.utoronto.ca         Year 3   \n",
       "\n",
       "  For which opportunity are you interested to learn more about? *  \\\n",
       "0                                              Co-op                \n",
       "1                                   Co-op, Full Time                \n",
       "2                                   Co-op, Full Time                \n",
       "3                                              Co-op                \n",
       "5                                   Co-op, Full Time                \n",
       "\n",
       "   For which opportunity are you interested to learn more about? * [Co-op]  \\\n",
       "0                                                  1                         \n",
       "1                                                  1                         \n",
       "2                                                  1                         \n",
       "3                                                  1                         \n",
       "5                                                  1                         \n",
       "\n",
       "   For which opportunity are you interested to learn more about? * [Full Time]  \\\n",
       "0                                                  0                             \n",
       "1                                                  1                             \n",
       "2                                                  1                             \n",
       "3                                                  0                             \n",
       "5                                                  1                             \n",
       "\n",
       "   How many co-op work terms do you have remaining?  \\\n",
       "0                                               3.0   \n",
       "1                                               1.0   \n",
       "2                                               2.0   \n",
       "3                                               1.0   \n",
       "5                                               1.0   \n",
       "\n",
       "   Do you know about Sephora Aspire Program?  \\\n",
       "0                                          1   \n",
       "1                                          1   \n",
       "2                                          1   \n",
       "3                                          1   \n",
       "5                                          1   \n",
       "\n",
       "  Why are you interested in Sephora Aspire, and Sephora in general? Sephora Aspire is their program for all university hires which promises a rich learning and development experience. To learn more, https://www.inside-sephora.com/en/canada/sephora-aspire  \\\n",
       "0  As a person of color who grew up in Canada and...                                                                                                                                                                                                             \n",
       "1  As an avid Sephora consumer, having the opport...                                                                                                                                                                                                             \n",
       "2  I am very interested in consumer analytics and...                                                                                                                                                                                                             \n",
       "3  Sephora believes in empowering the ExtraOrdina...                                                                                                                                                                                                             \n",
       "5  I have always been captivated by the cosmetics...                                                                                                                                                                                                             \n",
       "\n",
       "             Dietary Restrictions  Year  \n",
       "0                              NaN    1  \n",
       "1  Vegetarian, Lactose Intollerant    3  \n",
       "2                 Peanut Allergies    4  \n",
       "3                       Vegetarian    2  \n",
       "5                              NaN    3  "
      ]
     },
     "execution_count": 18,
     "metadata": {},
     "output_type": "execute_result"
    }
   ],
   "source": [
    "dfna.head()"
   ]
  },
  {
   "cell_type": "code",
   "execution_count": 19,
   "metadata": {},
   "outputs": [
    {
     "name": "stdout",
     "output_type": "stream",
     "text": [
      "Predicted Year: [3.65021066]\n"
     ]
    },
    {
     "name": "stderr",
     "output_type": "stream",
     "text": [
      "c:\\Users\\JRichard\\AppData\\Local\\anaconda3\\lib\\site-packages\\sklearn\\base.py:420: UserWarning: X does not have valid feature names, but LinearRegression was fitted with feature names\n",
      "  warnings.warn(\n"
     ]
    }
   ],
   "source": [
    "# Predict the 'Year' using the trained model\n",
    "# For example, predict the 'Year' for the first row\n",
    "sample_data = X.iloc[1].values.reshape(1, -1)\n",
    "predicted_year = regression_model.predict(sample_data)\n",
    "print('Predicted Year:', predicted_year)"
   ]
  },
  {
   "cell_type": "code",
   "execution_count": 20,
   "metadata": {},
   "outputs": [
    {
     "data": {
      "text/plain": [
       "0.6785246756134966"
      ]
     },
     "execution_count": 20,
     "metadata": {},
     "output_type": "execute_result"
    }
   ],
   "source": [
    "score = regression_model.score(X, y) \n",
    "score"
   ]
  },
  {
   "cell_type": "code",
   "execution_count": null,
   "metadata": {},
   "outputs": [],
   "source": [
    "#df_copy.to_excel('cleaned_data.xlsx', index=False)"
   ]
  }
 ],
 "metadata": {
  "kernelspec": {
   "display_name": "base",
   "language": "python",
   "name": "python3"
  },
  "language_info": {
   "codemirror_mode": {
    "name": "ipython",
    "version": 3
   },
   "file_extension": ".py",
   "mimetype": "text/x-python",
   "name": "python",
   "nbconvert_exporter": "python",
   "pygments_lexer": "ipython3",
   "version": "3.10.9"
  },
  "orig_nbformat": 4
 },
 "nbformat": 4,
 "nbformat_minor": 2
}
